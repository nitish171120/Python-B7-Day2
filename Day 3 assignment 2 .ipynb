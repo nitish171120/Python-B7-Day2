{
  "nbformat": 4,
  "nbformat_minor": 0,
  "metadata": {
    "colab": {
      "name": "Day3_Assignment1.ipynb.txt",
      "provenance": [],
      "collapsed_sections": []
    },
    "kernelspec": {
      "name": "python3",
      "display_name": "Python 3"
    }
  },
  "cells": [
    {
      "cell_type": "markdown",
      "metadata": {
        "id": "otr9Pl7u7BY2",
        "colab_type": "text"
      },
      "source": [
        "**Landing of Plane**"
      ]
    },
    {
      "cell_type": "code",
      "metadata": {
        "id": "M46haUhj63_P",
        "colab_type": "code",
        "colab": {
          "base_uri": "https://localhost:8080/",
          "height": 34
        },
        "outputId": "5573849c-9657-4eae-f447-f73becd013d3"
      },
      "source": [
        "alt= input(\"Enter Current Altitude Of Plane: \")"
      ],
      "execution_count": 1,
      "outputs": [
        {
          "output_type": "stream",
          "text": [
            "Enter Current Altitude Of Plane: 20\n"
          ],
          "name": "stdout"
        }
      ]
    },
    {
      "cell_type": "code",
      "metadata": {
        "id": "Poc0IVSg7lFv",
        "colab_type": "code",
        "colab": {}
      },
      "source": [
        "alt= int(alt)"
      ],
      "execution_count": 3,
      "outputs": []
    },
    {
      "cell_type": "code",
      "metadata": {
        "id": "6Uu-W8288LdH",
        "colab_type": "code",
        "colab": {
          "base_uri": "https://localhost:8080/",
          "height": 34
        },
        "outputId": "918fbc2a-018f-4c02-e0e4-9e1afffe60d9"
      },
      "source": [
        "if alt>=0 and alt<=1000:\n",
        "    print(\"you can land!!!\")\n",
        "elif alt>1000 and alt<=5000:\n",
        "    print(\"Come down to 1000ft. And try to land\")\n",
        "elif alt>5000:\n",
        "    print(\"You are very high..turn around and try again later!\")\n",
        "else:\n",
        "    print(\"invalid input\")"
      ],
      "execution_count": 5,
      "outputs": [
        {
          "output_type": "stream",
          "text": [
            "you can land!!!\n"
          ],
          "name": "stdout"
        }
      ]
    }
  ]
}